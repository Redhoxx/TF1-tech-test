{
 "cells": [
  {
   "cell_type": "markdown",
   "id": "893f4ec6",
   "metadata": {},
   "source": [
    "# Pipeline"
   ]
  },
  {
   "cell_type": "markdown",
   "id": "9bd03ed6",
   "metadata": {},
   "source": [
    "Grâce au notebook analyse_dataset, la pipeline suivante à pu être faite. Ce qui optimise le nettoyage d'un dataframe similaire en entrée."
   ]
  },
  {
   "cell_type": "code",
   "execution_count": 1,
   "id": "8c303c78",
   "metadata": {},
   "outputs": [],
   "source": [
    "import os\n",
    "import pandas as pd\n",
    "from sklearn.preprocessing import LabelEncoder\n",
    "from tqdm import tqdm\n",
    "\n",
    "class DataPipeline:\n",
    "    def __init__(self, data_path):\n",
    "        self.data_path = data_path\n",
    "        self.df_pip = None\n",
    "        self.df_pip_clean = None\n",
    "        self.user_gender_encoded = None\n",
    "        self.encoders = {}\n",
    "        self.column_terms = {}\n",
    "        self.df_pip_encoded = None\n",
    "\n",
    "    def load_data(self):\n",
    "        csv_path = os.path.join(self.data_path)\n",
    "        self.df_pip = pd.read_csv(csv_path)\n",
    "\n",
    "    def drop_columns(self, columns_to_drop):\n",
    "        self.df_pip_clean = self.df_pip.drop(columns_to_drop, axis=1)\n",
    "\n",
    "    def dropna(self, column):\n",
    "        self.df_pip_clean.dropna(subset=[column], inplace=True)\n",
    "\n",
    "    def encode_label(self, column):\n",
    "        data = self.df_pip_clean[column].copy()\n",
    "        le = LabelEncoder().fit(data)\n",
    "        encoded_data = le.transform(data)\n",
    "        self.encoders[column] = le\n",
    "        return encoded_data\n",
    "\n",
    "    def preprocess_vectors(self, vector_columns):\n",
    "        vectors_pip = self.df_pip_clean[vector_columns].copy()\n",
    "        for column in vectors_pip.columns:\n",
    "            for i in tqdm(range(len(self.df_pip)), desc=('preprocess_vectors ' + column)):\n",
    "                try:\n",
    "                    vectors_pip[column][i] = [word.strip() for word in vectors_pip[column][i][1:-1].split(',')]\n",
    "                except:\n",
    "                    pass\n",
    "        self.vectors_pip = vectors_pip\n",
    "\n",
    "    def encode_vectors(self):\n",
    "        self.df_pip_encoded = pd.DataFrame()\n",
    "        for column in tqdm(self.vectors_pip.columns, desc='encode_vectors'):\n",
    "            flattened_col = [e for sublist in self.vectors_pip[column] for e in sublist]\n",
    "            encoder = LabelEncoder()\n",
    "            encoder.fit(flattened_col)\n",
    "            self.encoders[column] = encoder\n",
    "\n",
    "            encoded_values = [encoder.transform(sublist) for sublist in self.vectors_pip[column]]\n",
    "            self.df_pip_encoded[column] = encoded_values\n",
    "\n",
    "    def get_column_terms(self):\n",
    "        for column, encoder in self.encoders.items():\n",
    "            terms = encoder.classes_\n",
    "            self.column_terms[column] = terms.tolist()\n",
    "\n",
    "    def one_hot_encode(self):\n",
    "        progressbar_ohe1 = tqdm(total=1, desc='Encoding device_vector')\n",
    "        df_device_vector = pd.get_dummies(\n",
    "            self.df_pip_encoded['device_vector'].apply(pd.Series).stack(), prefix='device'\n",
    "        ).sum(level=0)\n",
    "        progressbar_ohe1.update(1)\n",
    "\n",
    "        progressbar_ohe2 = tqdm(total=1, desc='Encoding channels_vector')\n",
    "        df_pip_encoded_columns = pd.concat([\n",
    "            df_device_vector,\n",
    "            pd.get_dummies(\n",
    "                self.df_pip_encoded['channels_vector'].apply(pd.Series).stack(),\n",
    "                prefix='channel'\n",
    "            ).sum(level=0)\n",
    "        ], axis=1)\n",
    "        progressbar_ohe2.update(1)\n",
    "\n",
    "        progressbar_ohe3 = tqdm(total=1, desc='Encoding program_genre_vector')\n",
    "        df_pip_encoded_columns = pd.concat([\n",
    "            df_pip_encoded_columns,\n",
    "            pd.get_dummies(\n",
    "                self.df_pip_encoded['program_genre_vector'].apply(pd.Series).stack(),\n",
    "                prefix='genre'\n",
    "            ).sum(level=0)\n",
    "        ], axis=1)\n",
    "        progressbar_ohe3.update(1)\n",
    "\n",
    "        self.df_pip_encoded_columns = df_pip_encoded_columns\n",
    "        self.df_pip_encoded_columns.columns = (\n",
    "            self.column_terms['device_vector']\n",
    "            + self.column_terms['channels_vector']\n",
    "            + self.column_terms['program_genre_vector']\n",
    "        )\n",
    "        \n",
    "        progressbar_ohe1.close()\n",
    "        progressbar_ohe2.close()\n",
    "        progressbar_ohe3.close()\n",
    "\n",
    "\n",
    "    def drop_encoded_columns(self, columns_to_drop):\n",
    "        self.df_pip_encoded = self.df_pip_encoded_columns.drop(columns_to_drop, axis=1).copy()\n",
    "\n",
    "    def add_user_gender(self, user_gender_encoded):\n",
    "        self.df_pip_encoded['user_gender'] = user_gender_encoded\n",
    "\n",
    "    def run_pipeline(self):\n",
    "        self.load_data()\n",
    "        self.drop_columns([\"user_id\", \"timestamps_vector\", \"programs\"])\n",
    "        self.dropna('user_gender')\n",
    "        self.user_gender_encoded = self.encode_label('user_gender')\n",
    "        self.preprocess_vectors([\"device_vector\", \"channels_vector\", \"program_genre_vector\"])\n",
    "        self.encode_vectors()\n",
    "        self.get_column_terms()\n",
    "        self.one_hot_encode()\n",
    "        columns_to_drop = ['lci', 'Autre', 'Concert', 'Evènement', 'Fiction', 'Film',\n",
    "                           'Jeunesse', 'Long-métrage', 'Météo', 'Programme FDJ', 'Programme court',\n",
    "                           'Programme sponsorisé', 'Ready-made', 'Spectacle', 'Téléachat']\n",
    "        self.drop_encoded_columns(columns_to_drop)\n",
    "        self.add_user_gender(self.user_gender_encoded)\n"
   ]
  },
  {
   "cell_type": "markdown",
   "id": "42d4bfae",
   "metadata": {},
   "source": [
    "Environ 7 min pour le dataset de 282819 lignes fourni"
   ]
  },
  {
   "cell_type": "code",
   "execution_count": 2,
   "id": "cb06ca3a",
   "metadata": {},
   "outputs": [
    {
     "name": "stderr",
     "output_type": "stream",
     "text": [
      "preprocess_vectors device_vector: 100%|██████████████████████████████████████████████████████████████████████████████████████████████████████████████████████████████████████████████████████| 282819/282819 [00:32<00:00, 8752.72it/s]\n",
      "preprocess_vectors channels_vector: 100%|████████████████████████████████████████████████████████████████████████████████████████████████████████████████████████████████████████████████████| 282819/282819 [00:32<00:00, 8727.19it/s]\n",
      "preprocess_vectors program_genre_vector: 100%|███████████████████████████████████████████████████████████████████████████████████████████████████████████████████████████████████████████████| 282819/282819 [00:34<00:00, 8207.76it/s]\n",
      "encode_vectors: 100%|████████████████████████████████████████████████████████████████████████████████████████████████████████████████████████████████████████████████████████████████████████████████████| 3/3 [00:22<00:00,  7.64s/it]\n",
      "Encoding device_vector:   0%|                                                                                                                                                                                    | 0/1 [00:00<?, ?it/s]C:\\Users\\redh0\\AppData\\Local\\Temp\\ipykernel_30404\\1928524951.py:61: FutureWarning: Using the level keyword in DataFrame and Series aggregations is deprecated and will be removed in a future version. Use groupby instead. df.sum(level=1) should use df.groupby(level=1).sum().\n",
      "  df_device_vector = pd.get_dummies(\n",
      "Encoding device_vector: 100%|████████████████████████████████████████████████████████████████████████████████████████████████████████████████████████████████████████████████████████████████████████████| 1/1 [00:56<00:00, 56.65s/it]\n",
      "Encoding channels_vector:   0%|                                                                                                                                                                                  | 0/1 [00:00<?, ?it/s]\u001b[AC:\\Users\\redh0\\AppData\\Local\\Temp\\ipykernel_30404\\1928524951.py:69: FutureWarning: Using the level keyword in DataFrame and Series aggregations is deprecated and will be removed in a future version. Use groupby instead. df.sum(level=1) should use df.groupby(level=1).sum().\n",
      "  pd.get_dummies(\n",
      "\n",
      "Encoding channels_vector: 100%|██████████████████████████████████████████████████████████████████████████████████████████████████████████████████████████████████████████████████████████████████████████| 1/1 [00:41<00:00, 41.31s/it]\u001b[A\n",
      "\n",
      "Encoding program_genre_vector:   0%|                                                                                                                                                                             | 0/1 [00:00<?, ?it/s]\u001b[A\u001b[AC:\\Users\\redh0\\AppData\\Local\\Temp\\ipykernel_30404\\1928524951.py:79: FutureWarning: Using the level keyword in DataFrame and Series aggregations is deprecated and will be removed in a future version. Use groupby instead. df.sum(level=1) should use df.groupby(level=1).sum().\n",
      "  pd.get_dummies(\n",
      "\n",
      "\n",
      "Encoding device_vector: 100%|███████████████████████████████████████████████████████████████████████████████████████████████████████████████████████████████████████████████████████████████████████████| 1/1 [02:16<00:00, 136.50s/it]\u001b[A\u001b[A\n",
      "Encoding channels_vector: 100%|██████████████████████████████████████████████████████████████████████████████████████████████████████████████████████████████████████████████████████████████████████████| 1/1 [01:19<00:00, 79.84s/it]\n",
      "Encoding program_genre_vector: 100%|█████████████████████████████████████████████████████████████████████████████████████████████████████████████████████████████████████████████████████████████████████| 1/1 [00:38<00:00, 38.53s/it]\n"
     ]
    }
   ],
   "source": [
    "pipeline = DataPipeline(data_path='data.csv')\n",
    "pipeline.run_pipeline()\n",
    "\n",
    "df_pip_encoded = pipeline.df_pip_encoded"
   ]
  },
  {
   "cell_type": "code",
   "execution_count": 3,
   "id": "16233b4f",
   "metadata": {},
   "outputs": [
    {
     "data": {
      "text/html": [
       "<div>\n",
       "<style scoped>\n",
       "    .dataframe tbody tr th:only-of-type {\n",
       "        vertical-align: middle;\n",
       "    }\n",
       "\n",
       "    .dataframe tbody tr th {\n",
       "        vertical-align: top;\n",
       "    }\n",
       "\n",
       "    .dataframe thead th {\n",
       "        text-align: right;\n",
       "    }\n",
       "</style>\n",
       "<table border=\"1\" class=\"dataframe\">\n",
       "  <thead>\n",
       "    <tr style=\"text-align: right;\">\n",
       "      <th></th>\n",
       "      <th>desktop</th>\n",
       "      <th>mobile</th>\n",
       "      <th>tablet</th>\n",
       "      <th>hd1</th>\n",
       "      <th>nt1</th>\n",
       "      <th>tf1</th>\n",
       "      <th>tmc</th>\n",
       "      <th>xtra</th>\n",
       "      <th>Divertissement</th>\n",
       "      <th>Documentaire</th>\n",
       "      <th>Evènement sportif</th>\n",
       "      <th>Jeu</th>\n",
       "      <th>Journal télévisé</th>\n",
       "      <th>Magazine</th>\n",
       "      <th>Magazine d'information</th>\n",
       "      <th>Magazine sportif</th>\n",
       "      <th>Mini-série</th>\n",
       "      <th>Shortcom</th>\n",
       "      <th>Série</th>\n",
       "      <th>Télé-réalité</th>\n",
       "      <th>Téléfilm</th>\n",
       "      <th>user_gender</th>\n",
       "    </tr>\n",
       "  </thead>\n",
       "  <tbody>\n",
       "    <tr>\n",
       "      <th>0</th>\n",
       "      <td>0</td>\n",
       "      <td>4</td>\n",
       "      <td>0</td>\n",
       "      <td>0</td>\n",
       "      <td>0</td>\n",
       "      <td>4</td>\n",
       "      <td>0</td>\n",
       "      <td>0</td>\n",
       "      <td>0</td>\n",
       "      <td>0</td>\n",
       "      <td>0</td>\n",
       "      <td>0</td>\n",
       "      <td>0</td>\n",
       "      <td>0</td>\n",
       "      <td>0</td>\n",
       "      <td>0</td>\n",
       "      <td>0</td>\n",
       "      <td>0</td>\n",
       "      <td>4</td>\n",
       "      <td>0</td>\n",
       "      <td>0</td>\n",
       "      <td>0</td>\n",
       "    </tr>\n",
       "    <tr>\n",
       "      <th>1</th>\n",
       "      <td>3</td>\n",
       "      <td>0</td>\n",
       "      <td>0</td>\n",
       "      <td>0</td>\n",
       "      <td>0</td>\n",
       "      <td>3</td>\n",
       "      <td>0</td>\n",
       "      <td>0</td>\n",
       "      <td>0</td>\n",
       "      <td>0</td>\n",
       "      <td>0</td>\n",
       "      <td>0</td>\n",
       "      <td>0</td>\n",
       "      <td>0</td>\n",
       "      <td>0</td>\n",
       "      <td>0</td>\n",
       "      <td>3</td>\n",
       "      <td>0</td>\n",
       "      <td>0</td>\n",
       "      <td>0</td>\n",
       "      <td>0</td>\n",
       "      <td>0</td>\n",
       "    </tr>\n",
       "    <tr>\n",
       "      <th>2</th>\n",
       "      <td>4</td>\n",
       "      <td>0</td>\n",
       "      <td>0</td>\n",
       "      <td>0</td>\n",
       "      <td>0</td>\n",
       "      <td>4</td>\n",
       "      <td>0</td>\n",
       "      <td>0</td>\n",
       "      <td>0</td>\n",
       "      <td>0</td>\n",
       "      <td>0</td>\n",
       "      <td>4</td>\n",
       "      <td>0</td>\n",
       "      <td>0</td>\n",
       "      <td>0</td>\n",
       "      <td>0</td>\n",
       "      <td>0</td>\n",
       "      <td>0</td>\n",
       "      <td>0</td>\n",
       "      <td>0</td>\n",
       "      <td>0</td>\n",
       "      <td>1</td>\n",
       "    </tr>\n",
       "    <tr>\n",
       "      <th>3</th>\n",
       "      <td>5</td>\n",
       "      <td>0</td>\n",
       "      <td>0</td>\n",
       "      <td>0</td>\n",
       "      <td>0</td>\n",
       "      <td>5</td>\n",
       "      <td>0</td>\n",
       "      <td>0</td>\n",
       "      <td>0</td>\n",
       "      <td>0</td>\n",
       "      <td>0</td>\n",
       "      <td>0</td>\n",
       "      <td>0</td>\n",
       "      <td>0</td>\n",
       "      <td>0</td>\n",
       "      <td>0</td>\n",
       "      <td>0</td>\n",
       "      <td>0</td>\n",
       "      <td>5</td>\n",
       "      <td>0</td>\n",
       "      <td>0</td>\n",
       "      <td>0</td>\n",
       "    </tr>\n",
       "    <tr>\n",
       "      <th>4</th>\n",
       "      <td>5</td>\n",
       "      <td>0</td>\n",
       "      <td>0</td>\n",
       "      <td>0</td>\n",
       "      <td>0</td>\n",
       "      <td>5</td>\n",
       "      <td>0</td>\n",
       "      <td>0</td>\n",
       "      <td>0</td>\n",
       "      <td>0</td>\n",
       "      <td>0</td>\n",
       "      <td>0</td>\n",
       "      <td>0</td>\n",
       "      <td>0</td>\n",
       "      <td>0</td>\n",
       "      <td>0</td>\n",
       "      <td>0</td>\n",
       "      <td>0</td>\n",
       "      <td>5</td>\n",
       "      <td>0</td>\n",
       "      <td>0</td>\n",
       "      <td>0</td>\n",
       "    </tr>\n",
       "    <tr>\n",
       "      <th>...</th>\n",
       "      <td>...</td>\n",
       "      <td>...</td>\n",
       "      <td>...</td>\n",
       "      <td>...</td>\n",
       "      <td>...</td>\n",
       "      <td>...</td>\n",
       "      <td>...</td>\n",
       "      <td>...</td>\n",
       "      <td>...</td>\n",
       "      <td>...</td>\n",
       "      <td>...</td>\n",
       "      <td>...</td>\n",
       "      <td>...</td>\n",
       "      <td>...</td>\n",
       "      <td>...</td>\n",
       "      <td>...</td>\n",
       "      <td>...</td>\n",
       "      <td>...</td>\n",
       "      <td>...</td>\n",
       "      <td>...</td>\n",
       "      <td>...</td>\n",
       "      <td>...</td>\n",
       "    </tr>\n",
       "    <tr>\n",
       "      <th>270091</th>\n",
       "      <td>0</td>\n",
       "      <td>3</td>\n",
       "      <td>0</td>\n",
       "      <td>0</td>\n",
       "      <td>0</td>\n",
       "      <td>3</td>\n",
       "      <td>0</td>\n",
       "      <td>0</td>\n",
       "      <td>3</td>\n",
       "      <td>0</td>\n",
       "      <td>0</td>\n",
       "      <td>0</td>\n",
       "      <td>0</td>\n",
       "      <td>0</td>\n",
       "      <td>0</td>\n",
       "      <td>0</td>\n",
       "      <td>0</td>\n",
       "      <td>0</td>\n",
       "      <td>0</td>\n",
       "      <td>0</td>\n",
       "      <td>0</td>\n",
       "      <td>0</td>\n",
       "    </tr>\n",
       "    <tr>\n",
       "      <th>270092</th>\n",
       "      <td>3</td>\n",
       "      <td>0</td>\n",
       "      <td>0</td>\n",
       "      <td>0</td>\n",
       "      <td>0</td>\n",
       "      <td>1</td>\n",
       "      <td>0</td>\n",
       "      <td>2</td>\n",
       "      <td>0</td>\n",
       "      <td>1</td>\n",
       "      <td>0</td>\n",
       "      <td>0</td>\n",
       "      <td>0</td>\n",
       "      <td>0</td>\n",
       "      <td>0</td>\n",
       "      <td>0</td>\n",
       "      <td>0</td>\n",
       "      <td>0</td>\n",
       "      <td>0</td>\n",
       "      <td>0</td>\n",
       "      <td>2</td>\n",
       "      <td>0</td>\n",
       "    </tr>\n",
       "    <tr>\n",
       "      <th>270093</th>\n",
       "      <td>0</td>\n",
       "      <td>4</td>\n",
       "      <td>0</td>\n",
       "      <td>0</td>\n",
       "      <td>0</td>\n",
       "      <td>4</td>\n",
       "      <td>0</td>\n",
       "      <td>0</td>\n",
       "      <td>0</td>\n",
       "      <td>0</td>\n",
       "      <td>0</td>\n",
       "      <td>0</td>\n",
       "      <td>0</td>\n",
       "      <td>0</td>\n",
       "      <td>0</td>\n",
       "      <td>0</td>\n",
       "      <td>0</td>\n",
       "      <td>0</td>\n",
       "      <td>4</td>\n",
       "      <td>0</td>\n",
       "      <td>0</td>\n",
       "      <td>0</td>\n",
       "    </tr>\n",
       "    <tr>\n",
       "      <th>270094</th>\n",
       "      <td>0</td>\n",
       "      <td>4</td>\n",
       "      <td>0</td>\n",
       "      <td>0</td>\n",
       "      <td>4</td>\n",
       "      <td>0</td>\n",
       "      <td>0</td>\n",
       "      <td>0</td>\n",
       "      <td>0</td>\n",
       "      <td>0</td>\n",
       "      <td>0</td>\n",
       "      <td>0</td>\n",
       "      <td>0</td>\n",
       "      <td>0</td>\n",
       "      <td>0</td>\n",
       "      <td>0</td>\n",
       "      <td>0</td>\n",
       "      <td>0</td>\n",
       "      <td>0</td>\n",
       "      <td>4</td>\n",
       "      <td>0</td>\n",
       "      <td>0</td>\n",
       "    </tr>\n",
       "    <tr>\n",
       "      <th>270095</th>\n",
       "      <td>4</td>\n",
       "      <td>0</td>\n",
       "      <td>0</td>\n",
       "      <td>0</td>\n",
       "      <td>0</td>\n",
       "      <td>4</td>\n",
       "      <td>0</td>\n",
       "      <td>0</td>\n",
       "      <td>0</td>\n",
       "      <td>0</td>\n",
       "      <td>0</td>\n",
       "      <td>4</td>\n",
       "      <td>0</td>\n",
       "      <td>0</td>\n",
       "      <td>0</td>\n",
       "      <td>0</td>\n",
       "      <td>0</td>\n",
       "      <td>0</td>\n",
       "      <td>0</td>\n",
       "      <td>0</td>\n",
       "      <td>0</td>\n",
       "      <td>0</td>\n",
       "    </tr>\n",
       "  </tbody>\n",
       "</table>\n",
       "<p>270096 rows × 22 columns</p>\n",
       "</div>"
      ],
      "text/plain": [
       "        desktop  mobile  tablet  hd1  nt1  tf1  tmc  xtra  Divertissement  \\\n",
       "0             0       4       0    0    0    4    0     0               0   \n",
       "1             3       0       0    0    0    3    0     0               0   \n",
       "2             4       0       0    0    0    4    0     0               0   \n",
       "3             5       0       0    0    0    5    0     0               0   \n",
       "4             5       0       0    0    0    5    0     0               0   \n",
       "...         ...     ...     ...  ...  ...  ...  ...   ...             ...   \n",
       "270091        0       3       0    0    0    3    0     0               3   \n",
       "270092        3       0       0    0    0    1    0     2               0   \n",
       "270093        0       4       0    0    0    4    0     0               0   \n",
       "270094        0       4       0    0    4    0    0     0               0   \n",
       "270095        4       0       0    0    0    4    0     0               0   \n",
       "\n",
       "        Documentaire  Evènement sportif  Jeu  Journal télévisé  Magazine  \\\n",
       "0                  0                  0    0                 0         0   \n",
       "1                  0                  0    0                 0         0   \n",
       "2                  0                  0    4                 0         0   \n",
       "3                  0                  0    0                 0         0   \n",
       "4                  0                  0    0                 0         0   \n",
       "...              ...                ...  ...               ...       ...   \n",
       "270091             0                  0    0                 0         0   \n",
       "270092             1                  0    0                 0         0   \n",
       "270093             0                  0    0                 0         0   \n",
       "270094             0                  0    0                 0         0   \n",
       "270095             0                  0    4                 0         0   \n",
       "\n",
       "        Magazine d'information  Magazine sportif  Mini-série  Shortcom  Série  \\\n",
       "0                            0                 0           0         0      4   \n",
       "1                            0                 0           3         0      0   \n",
       "2                            0                 0           0         0      0   \n",
       "3                            0                 0           0         0      5   \n",
       "4                            0                 0           0         0      5   \n",
       "...                        ...               ...         ...       ...    ...   \n",
       "270091                       0                 0           0         0      0   \n",
       "270092                       0                 0           0         0      0   \n",
       "270093                       0                 0           0         0      4   \n",
       "270094                       0                 0           0         0      0   \n",
       "270095                       0                 0           0         0      0   \n",
       "\n",
       "        Télé-réalité  Téléfilm  user_gender  \n",
       "0                  0         0            0  \n",
       "1                  0         0            0  \n",
       "2                  0         0            1  \n",
       "3                  0         0            0  \n",
       "4                  0         0            0  \n",
       "...              ...       ...          ...  \n",
       "270091             0         0            0  \n",
       "270092             0         2            0  \n",
       "270093             0         0            0  \n",
       "270094             4         0            0  \n",
       "270095             0         0            0  \n",
       "\n",
       "[270096 rows x 22 columns]"
      ]
     },
     "execution_count": 3,
     "metadata": {},
     "output_type": "execute_result"
    }
   ],
   "source": [
    "pd.set_option('display.max_columns', None)\n",
    "df_pip_encoded"
   ]
  },
  {
   "cell_type": "markdown",
   "id": "7681adac",
   "metadata": {},
   "source": [
    "# Prédiction à partir de deux modèles"
   ]
  },
  {
   "cell_type": "code",
   "execution_count": 4,
   "id": "43eb5186",
   "metadata": {},
   "outputs": [],
   "source": [
    "import tensorflow as tf\n",
    "from sklearn.model_selection import train_test_split\n",
    "from sklearn.preprocessing import StandardScaler"
   ]
  },
  {
   "cell_type": "code",
   "execution_count": 5,
   "id": "a6f87289",
   "metadata": {},
   "outputs": [],
   "source": [
    "def prepare_data(df):\n",
    "    X = df.drop('user_gender', axis=1)\n",
    "    y = df['user_gender']\n",
    "    return X, y"
   ]
  },
  {
   "cell_type": "code",
   "execution_count": 6,
   "id": "3c7e29d8",
   "metadata": {},
   "outputs": [],
   "source": [
    "def split_data(X, y, test_size=0.2, random_state=42):\n",
    "    X_train, X_test, y_train, y_test = train_test_split(X, y, test_size=test_size, random_state=random_state)\n",
    "    return X_train, X_test, y_train, y_test"
   ]
  },
  {
   "cell_type": "markdown",
   "id": "5e1ea500",
   "metadata": {},
   "source": [
    "## Réseau de neurones"
   ]
  },
  {
   "cell_type": "code",
   "execution_count": 7,
   "id": "d49009c3",
   "metadata": {},
   "outputs": [],
   "source": [
    "def build_model(input_shape, optimizer='adam'):\n",
    "    model = tf.keras.Sequential([\n",
    "        tf.keras.layers.Dense(32, activation='relu', input_shape=input_shape),\n",
    "        tf.keras.layers.Dense(64, activation='relu'),\n",
    "        tf.keras.layers.Dropout(0.2),\n",
    "        tf.keras.layers.Dense(1, activation='sigmoid')\n",
    "    ])\n",
    "    model.compile(optimizer=optimizer, loss='binary_crossentropy', metrics=['accuracy'])\n",
    "    return model"
   ]
  },
  {
   "cell_type": "code",
   "execution_count": 8,
   "id": "07d9a5f3",
   "metadata": {},
   "outputs": [],
   "source": [
    "def train_model(model, X_train, y_train, epochs=10, batch_size=64):\n",
    "    for epoch in tqdm(range(epochs), desc='Training Progress'):\n",
    "        model.fit(X_train, y_train, batch_size=batch_size, validation_split=0.1, verbose=0)"
   ]
  },
  {
   "cell_type": "markdown",
   "id": "c937ce7e",
   "metadata": {},
   "source": [
    "## Random forest"
   ]
  },
  {
   "cell_type": "code",
   "execution_count": 9,
   "id": "9a2af1f8",
   "metadata": {},
   "outputs": [],
   "source": [
    "from sklearn.ensemble import RandomForestClassifier\n",
    "\n",
    "def build_random_forest_model():\n",
    "    model = RandomForestClassifier(n_estimators=100, random_state=42)\n",
    "    return model"
   ]
  },
  {
   "cell_type": "code",
   "execution_count": 10,
   "id": "139adfdf",
   "metadata": {},
   "outputs": [],
   "source": [
    "def train_random_forest_model(model, X_train, y_train, epochs=5):\n",
    "    for epoch in tqdm(range(epochs), desc='Training Progress'):\n",
    "        model.fit(X_train, y_train)"
   ]
  },
  {
   "cell_type": "markdown",
   "id": "9b6696b6",
   "metadata": {},
   "source": [
    "----------"
   ]
  },
  {
   "cell_type": "code",
   "execution_count": 11,
   "id": "1aab60dd",
   "metadata": {},
   "outputs": [],
   "source": [
    "def pred_to_bin(y_pred):\n",
    "    i = 0\n",
    "    for val in y_pred:\n",
    "        if val < 0.5:\n",
    "            y_pred[i] = 0\n",
    "        else:\n",
    "            y_pred[i] = 1\n",
    "        i += 1\n",
    "    return y_pred"
   ]
  },
  {
   "cell_type": "markdown",
   "id": "333300c0",
   "metadata": {},
   "source": [
    "----------"
   ]
  },
  {
   "cell_type": "markdown",
   "id": "91a80dcd",
   "metadata": {},
   "source": [
    "## Evaluation du modèle"
   ]
  },
  {
   "cell_type": "code",
   "execution_count": 12,
   "id": "89449b1f",
   "metadata": {},
   "outputs": [],
   "source": [
    "from sklearn.metrics import accuracy_score, precision_score, recall_score, f1_score\n",
    "\n",
    "def evaluate_model(model, X_test, y_test):\n",
    "    loss, accuracy = model.evaluate(X_test, y_test)\n",
    "    print('Loss:', loss)\n",
    "    print('Accuracy:', accuracy)\n",
    "\n",
    "    y_pred = model.predict(X_test)\n",
    "    \n",
    "    y_pred = pred_to_bin(y_pred)\n",
    "    \n",
    "    precision = precision_score(y_test, y_pred)\n",
    "    recall = recall_score(y_test, y_pred)\n",
    "    f1 = f1_score(y_test, y_pred)\n",
    "    \n",
    "    print('Precision:', precision)\n",
    "    print('Recall:', recall)\n",
    "    print('F1 Score:', f1)"
   ]
  },
  {
   "cell_type": "markdown",
   "id": "35941d39",
   "metadata": {},
   "source": [
    "## Train test split"
   ]
  },
  {
   "cell_type": "code",
   "execution_count": 13,
   "id": "697b4ece",
   "metadata": {},
   "outputs": [],
   "source": [
    "X, y = prepare_data(df_pip_encoded)\n",
    "X_train, X_test, y_train, y_test = split_data(X, y)"
   ]
  },
  {
   "cell_type": "markdown",
   "id": "83f9d385",
   "metadata": {},
   "source": [
    "## Evaluation du réseau de neurones"
   ]
  },
  {
   "cell_type": "code",
   "execution_count": 14,
   "id": "4d981054",
   "metadata": {
    "scrolled": false
   },
   "outputs": [
    {
     "name": "stderr",
     "output_type": "stream",
     "text": [
      "Training Progress: 100%|███████████████████████████████████████████████████████████████████████████████████████████████████████████████████████████████████████████████████████████████████████████████| 10/10 [00:27<00:00,  2.78s/it]\n"
     ]
    }
   ],
   "source": [
    "model = build_model(input_shape=X_train.shape[1:])\n",
    "train_model(model, X_train, y_train)"
   ]
  },
  {
   "cell_type": "code",
   "execution_count": 15,
   "id": "81cc13ce",
   "metadata": {},
   "outputs": [
    {
     "name": "stdout",
     "output_type": "stream",
     "text": [
      "1689/1689 [==============================] - 1s 591us/step - loss: 0.6078 - accuracy: 0.6623\n",
      "Loss: 0.6078121662139893\n",
      "Accuracy: 0.6622917652130127\n",
      "1689/1689 [==============================] - 1s 517us/step\n",
      "Precision: 0.5861737108027909\n",
      "Recall: 0.3584248724990192\n",
      "F1 Score: 0.4448434314232677\n"
     ]
    }
   ],
   "source": [
    "evaluate_model(model, X_test, y_test)"
   ]
  },
  {
   "cell_type": "markdown",
   "id": "728d14bc",
   "metadata": {},
   "source": [
    "## Evaluation de la random forest"
   ]
  },
  {
   "cell_type": "code",
   "execution_count": 16,
   "id": "978517ab",
   "metadata": {
    "scrolled": false
   },
   "outputs": [
    {
     "name": "stderr",
     "output_type": "stream",
     "text": [
      "\r",
      "Training Progress:   0%|                                                                                                                                                                                         | 0/5 [00:00<?, ?it/s]"
     ]
    },
    {
     "name": "stdout",
     "output_type": "stream",
     "text": [
      "6753/6753 [==============================] - 5s 787us/step - loss: 0.6083 - accuracy: 0.6594\n"
     ]
    },
    {
     "name": "stderr",
     "output_type": "stream",
     "text": [
      "\r",
      "Training Progress:  20%|███████████████████████████████████▍                                                                                                                                             | 1/5 [00:05<00:21,  5.38s/it]"
     ]
    },
    {
     "name": "stdout",
     "output_type": "stream",
     "text": [
      "6753/6753 [==============================] - 5s 782us/step - loss: 0.6078 - accuracy: 0.6594\n"
     ]
    },
    {
     "name": "stderr",
     "output_type": "stream",
     "text": [
      "\r",
      "Training Progress:  40%|██████████████████████████████████████████████████████████████████████▊                                                                                                          | 2/5 [00:10<00:16,  5.36s/it]"
     ]
    },
    {
     "name": "stdout",
     "output_type": "stream",
     "text": [
      "6753/6753 [==============================] - 6s 836us/step - loss: 0.6080 - accuracy: 0.6592\n"
     ]
    },
    {
     "name": "stderr",
     "output_type": "stream",
     "text": [
      "\r",
      "Training Progress:  60%|██████████████████████████████████████████████████████████████████████████████████████████████████████████▏                                                                      | 3/5 [00:16<00:11,  5.52s/it]"
     ]
    },
    {
     "name": "stdout",
     "output_type": "stream",
     "text": [
      "6753/6753 [==============================] - 5s 805us/step - loss: 0.6078 - accuracy: 0.6594\n"
     ]
    },
    {
     "name": "stderr",
     "output_type": "stream",
     "text": [
      "\r",
      "Training Progress:  80%|█████████████████████████████████████████████████████████████████████████████████████████████████████████████████████████████████████████████▌                                   | 4/5 [00:21<00:05,  5.51s/it]"
     ]
    },
    {
     "name": "stdout",
     "output_type": "stream",
     "text": [
      "6753/6753 [==============================] - 5s 798us/step - loss: 0.6078 - accuracy: 0.6595\n"
     ]
    },
    {
     "name": "stderr",
     "output_type": "stream",
     "text": [
      "Training Progress: 100%|█████████████████████████████████████████████████████████████████████████████████████████████████████████████████████████████████████████████████████████████████████████████████| 5/5 [00:27<00:00,  5.48s/it]\n"
     ]
    }
   ],
   "source": [
    "rf_model = build_random_forest_model()\n",
    "train_random_forest_model(model, X_train, y_train)"
   ]
  },
  {
   "cell_type": "code",
   "execution_count": 17,
   "id": "58f722b4",
   "metadata": {},
   "outputs": [
    {
     "name": "stdout",
     "output_type": "stream",
     "text": [
      "1689/1689 [==============================] - 1s 545us/step\n",
      "Accuracy: 0.6586079229914846\n",
      "Precision: 0.619280645950575\n",
      "Recall: 0.24823460180462928\n",
      "F1 Score: 0.35440733739410485\n"
     ]
    }
   ],
   "source": [
    "y_pred_rf = model.predict(X_test)\n",
    "\n",
    "y_pred_rf = pred_to_bin(y_pred_rf)\n",
    "\n",
    "accuracy = accuracy_score(y_test, y_pred_rf)\n",
    "precision = precision_score(y_test, y_pred_rf)\n",
    "recall = recall_score(y_test, y_pred_rf)\n",
    "f1 = f1_score(y_test, y_pred_rf)\n",
    "\n",
    "print('Accuracy:', accuracy)\n",
    "print('Precision:', precision)\n",
    "print('Recall:', recall)\n",
    "print('F1 Score:', f1)"
   ]
  },
  {
   "cell_type": "markdown",
   "id": "50709647",
   "metadata": {},
   "source": [
    "## Comparaison des deux modèles"
   ]
  },
  {
   "cell_type": "code",
   "execution_count": 18,
   "id": "838313e4",
   "metadata": {},
   "outputs": [
    {
     "name": "stdout",
     "output_type": "stream",
     "text": [
      "1689/1689 [==============================] - 1s 510us/step\n"
     ]
    },
    {
     "data": {
      "image/png": "[encoded data removed]",
      "text/plain": [
       "<Figure size 432x288 with 1 Axes>"
      ]
     },
     "metadata": {
      "needs_background": "light"
     },
     "output_type": "display_data"
    }
   ],
   "source": [
    "from sklearn.metrics import roc_curve\n",
    "import matplotlib.pyplot as plt\n",
    "\n",
    "y_pred = model.predict(X_test)\n",
    "\n",
    "faux_positifs, vrais_positifs, seuils = roc_curve(y_test, y_pred)\n",
    "plt.plot(faux_positifs, vrais_positifs, label=\"Simple Classifier\")\n",
    "\n",
    "rf_model.fit(X_train, y_train)\n",
    "y_pred_rf = rf_model.predict(X_test)\n",
    "\n",
    "faux_positifs_rf, vrais_positifs_rf, seuils_rf = roc_curve(y_test, y_pred_rf)\n",
    "plt.plot(faux_positifs_rf, vrais_positifs_rf, label=\"Random Forest\")\n",
    "\n",
    "plt.xlabel(\"Faux positifs\")\n",
    "plt.ylabel(\"Vrais positifs\")\n",
    "plt.legend()\n",
    "plt.show()\n"
   ]
  },
  {
   "cell_type": "markdown",
   "id": "3dfff63d",
   "metadata": {},
   "source": [
    "new_data_f et new_data_m correspondent tous deux à la ligne 1 et 3 de df_pip_encoded sans la colonne 'user_gender' (puisque c'est la colonne cible)."
   ]
  },
  {
   "cell_type": "code",
   "execution_count": 19,
   "id": "93bdd8aa",
   "metadata": {},
   "outputs": [],
   "source": [
    "# En considérant de nouvelles données prétraitées :\n",
    "\n",
    "new_data_f = {\n",
    "    'desktop': [0],\n",
    "    'mobile': [4],\n",
    "    'tablet': [0],\n",
    "    'hd1': [0],\n",
    "    'nt1': [0],\n",
    "    'tf1': [4],\n",
    "    'tmc': [0],\n",
    "    'xtra': [0],\n",
    "    'Divertissement': [0],\n",
    "    'Documentaire': [0],\n",
    "    'Evènement sportif': [0],\n",
    "    'Jeu': [0],\n",
    "    'Journal télévisé': [0],\n",
    "    'Magazine': [0],\n",
    "    'Magazine d\\'information': [0],\n",
    "    'Magazine sportif': [0],\n",
    "    'Mini-série': [0],\n",
    "    'Shortcom': [0],\n",
    "    'Série': [4],\n",
    "    'Télé-réalité': [0],\n",
    "    'Téléfilm': [0],\n",
    "}\n",
    "\n",
    "new_df_f = pd.DataFrame(new_data_f)"
   ]
  },
  {
   "cell_type": "code",
   "execution_count": 20,
   "id": "452138e0",
   "metadata": {},
   "outputs": [],
   "source": [
    "# En considérant de nouvelles données prétraitées :\n",
    "\n",
    "new_data_m = {\n",
    "    'desktop': [4],\n",
    "    'mobile': [0],\n",
    "    'tablet': [0],\n",
    "    'hd1': [0],\n",
    "    'nt1': [0],\n",
    "    'tf1': [2],\n",
    "    'tmc': [0],\n",
    "    'xtra': [0],\n",
    "    'Divertissement': [0],\n",
    "    'Documentaire': [0],\n",
    "    'Evènement sportif': [2],\n",
    "    'Jeu': [0],\n",
    "    'Journal télévisé': [0],\n",
    "    'Magazine': [0],\n",
    "    'Magazine d\\'information': [0],\n",
    "    'Magazine sportif': [0],\n",
    "    'Mini-série': [0],\n",
    "    'Shortcom': [0],\n",
    "    'Série': [0],\n",
    "    'Télé-réalité': [0],\n",
    "    'Téléfilm': [0],\n",
    "}\n",
    "\n",
    "new_df_m = pd.DataFrame(new_data_m)"
   ]
  },
  {
   "cell_type": "code",
   "execution_count": 21,
   "id": "fb8894ab",
   "metadata": {},
   "outputs": [
    {
     "data": {
      "text/plain": [
       "array([0])"
      ]
     },
     "execution_count": 21,
     "metadata": {},
     "output_type": "execute_result"
    }
   ],
   "source": [
    "predictions = rf_model.predict(new_df_f)\n",
    "predictions"
   ]
  },
  {
   "cell_type": "code",
   "execution_count": 22,
   "id": "22dee5a0",
   "metadata": {},
   "outputs": [
    {
     "data": {
      "text/plain": [
       "array([1])"
      ]
     },
     "execution_count": 22,
     "metadata": {},
     "output_type": "execute_result"
    }
   ],
   "source": [
    "predictions = rf_model.predict(new_df_m)\n",
    "predictions"
   ]
  },
  {
   "cell_type": "code",
   "execution_count": 23,
   "id": "310f1aa0",
   "metadata": {},
   "outputs": [],
   "source": [
    "def preds_to_bin(predictions):\n",
    "    i = 0\n",
    "    for pred in predictions[0]:\n",
    "        if predictions[0][i] < 0.5:\n",
    "            predictions[0][i] = 0\n",
    "        else:\n",
    "            predictions[0][i] = 1\n",
    "        i+=1\n",
    "    return predictions"
   ]
  },
  {
   "cell_type": "code",
   "execution_count": 24,
   "id": "2e84bd65",
   "metadata": {},
   "outputs": [
    {
     "name": "stdout",
     "output_type": "stream",
     "text": [
      "1/1 [==============================] - 0s 39ms/step\n"
     ]
    },
    {
     "data": {
      "text/plain": [
       "array([[0.]], dtype=float32)"
      ]
     },
     "execution_count": 24,
     "metadata": {},
     "output_type": "execute_result"
    }
   ],
   "source": [
    "predictions = model.predict(new_df_f)\n",
    "predictions = preds_to_bin(predictions)\n",
    "\n",
    "predictions"
   ]
  },
  {
   "cell_type": "code",
   "execution_count": 25,
   "id": "55e6540e",
   "metadata": {},
   "outputs": [
    {
     "name": "stdout",
     "output_type": "stream",
     "text": [
      "1/1 [==============================] - 0s 15ms/step\n"
     ]
    },
    {
     "data": {
      "text/plain": [
       "array([[1.]], dtype=float32)"
      ]
     },
     "execution_count": 25,
     "metadata": {},
     "output_type": "execute_result"
    }
   ],
   "source": [
    "predictions = model.predict(new_df_m)\n",
    "predictions = preds_to_bin(predictions)\n",
    "\n",
    "predictions"
   ]
  }
 ],
 "metadata": {
  "kernelspec": {
   "display_name": "Python 3 (ipykernel)",
   "language": "python",
   "name": "python3"
  },
  "language_info": {
   "codemirror_mode": {
    "name": "ipython",
    "version": 3
   },
   "file_extension": ".py",
   "mimetype": "text/x-python",
   "name": "python",
   "nbconvert_exporter": "python",
   "pygments_lexer": "ipython3",
   "version": "3.9.12"
  }
 },
 "nbformat": 4,
 "nbformat_minor": 5
}
